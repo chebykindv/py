{
 "cells": [
  {
   "cell_type": "markdown",
   "metadata": {},
   "source": [
    "### Большая часть задач требует операций с файлами, поэтому для воспроизводимости результатов работы вашего кода эти файлы нужно создавать\n",
    "\n",
    "### Можете их всех создавать в текущей папке, быстро и удобно это можно сделать таким способом:"
   ]
  },
  {
   "cell_type": "code",
   "execution_count": 10,
   "metadata": {
    "collapsed": false
   },
   "outputs": [],
   "source": [
    "text = \"\"\"123\n",
    "4567\n",
    " 8910\n",
    "\"\"\"\n",
    "with open('task_1.1_source', 'w') as f:\n",
    "    f.write(text)"
   ]
  },
  {
   "cell_type": "code",
   "execution_count": 12,
   "metadata": {
    "collapsed": false
   },
   "outputs": [
    {
     "name": "stdout",
     "output_type": "stream",
     "text": [
      "123\n",
      "4567\n",
      " 8910\n"
     ]
    }
   ],
   "source": [
    "!type task_1.1_source"
   ]
  },
  {
   "cell_type": "markdown",
   "metadata": {},
   "source": [
    "# Базовый уровень"
   ]
  },
  {
   "cell_type": "markdown",
   "metadata": {},
   "source": [
    "## Задание 1.1\n",
    "\n",
    "Напишите функцию, копирующую файл\n",
    "\n",
    "source_path должен существовать, а отсутствующие промежуточные папки из target_path должны быть созданы\n",
    "\n",
    "Подсказка: можно прочитать исходный файл и записать в новый. \n",
    "\n",
    "Опциональное усложнение: попробуйте написать так, чтобы функция работала и с большими файлами (нужно, чтобы содежимое файла не считывалось полностью в память)"
   ]
  },
  {
   "cell_type": "code",
   "execution_count": 31,
   "metadata": {
    "collapsed": false
   },
   "outputs": [],
   "source": [
    "import os, sys\n",
    "\n",
    "def copy_file(source_path, target_path):\n",
    "    directory = os.path.dirname(target_path)\n",
    "    if not os.path.exists(directory):\n",
    "        os.makedirs(directory)\n",
    "    with open(source_path, 'r') as f1, open(target_path, 'w') as f2:\n",
    "        for line in f1.xreadlines():\n",
    "            f2.write(line)\n",
    "    return\n",
    "\n",
    "copy_file('task_1.1_source', './tmp/tmp.txt')"
   ]
  },
  {
   "cell_type": "code",
   "execution_count": 40,
   "metadata": {
    "collapsed": false
   },
   "outputs": [
    {
     "name": "stdout",
     "output_type": "stream",
     "text": [
      "123\n",
      "4567\n",
      " 8910\n"
     ]
    }
   ],
   "source": [
    "!type.\\tmp\\tmp.txt"
   ]
  },
  {
   "cell_type": "code",
   "execution_count": 34,
   "metadata": {
    "collapsed": false
   },
   "outputs": [
    {
     "name": "stdout",
     "output_type": "stream",
     "text": [
      "123\n",
      "4567\n",
      " 8910\n"
     ]
    }
   ],
   "source": [
    "!type task_1.1_source"
   ]
  },
  {
   "cell_type": "markdown",
   "metadata": {},
   "source": [
    "## Задание 1.2\n",
    "\n",
    "##### В файле source_path находится англо-латинский словарь, то есть список слов на английском языке и их переводы на латинский язык (переводов может быть несколько). Необходимо создать из него латино-английский словарь по пути target_path. Например, из словаря\n",
    "\n",
    "\n",
    "\n",
    "apple - malum, pomum, popula\n",
    "\n",
    "fruit - baca, bacca, popum\n",
    "\n",
    "punishment - malum, multa\n",
    "\n",
    "\n",
    "\n",
    "##### нужно сделать словарь.\n",
    "\n",
    "baca - fruit\n",
    "\n",
    "bacca - fruit\n",
    "\n",
    "malum - apple, punishment\n",
    "\n",
    "multa - punishment\n",
    "\n",
    "pomum - apple\n",
    "\n",
    "popula - apple\n",
    "\n",
    "popum - fruit\n",
    "\n",
    "##### Не забудьте, что слова нужно расположить в алфавитном порядке.\n",
    "##### Будет полезна функция strip у строки для удаления пробелов\n"
   ]
  },
  {
   "cell_type": "code",
   "execution_count": 41,
   "metadata": {
    "collapsed": true
   },
   "outputs": [],
   "source": [
    "text = \"\"\"apple - malum, pomum, popula\n",
    "fruit - baca, bacca, popum\n",
    "punishment - malum, multa\n",
    "\"\"\"\n",
    "with open('task_1.2_source', 'w') as f:\n",
    "    f.write(text)"
   ]
  },
  {
   "cell_type": "code",
   "execution_count": 313,
   "metadata": {
    "collapsed": false
   },
   "outputs": [],
   "source": [
    "import re\n",
    "def eng_lat_2_lat_eng(source_path, target_path):\n",
    "    # Допишите код\n",
    "    dict1 = dict()\n",
    "    with open(source_path,'r') as f1:\n",
    "        for line in f1.xreadlines():\n",
    "            zzz = re.split('[-,]',line.strip())\n",
    "            for z in zzz:\n",
    "                if z != zzz[0]:\n",
    "                    if str(dict1.get(z.strip(),\"\")) == \"\" :\n",
    "                        dict1[z.strip()] = zzz[0].strip()\n",
    "                    else:\n",
    "                        dict1[z.strip()] = str(dict1.get(z.strip(),\"\")) + \", \" + zzz[0].strip()\n",
    "        \n",
    "    with open(target_path, 'w') as f2:\n",
    "        for i in sorted(dict1.iteritems()):\n",
    "            f2.write(i[0]+\" - \" + str(i[1]) + \"\\n\")\n",
    "        \n",
    "    return\n",
    "\n",
    "eng_lat_2_lat_eng('task_1.2_source', 'task_1.2_target')\n",
    "\n"
   ]
  },
  {
   "cell_type": "code",
   "execution_count": 314,
   "metadata": {
    "collapsed": false
   },
   "outputs": [
    {
     "name": "stdout",
     "output_type": "stream",
     "text": [
      "baca - fruit\n",
      "bacca - fruit\n",
      "malum - apple, punishment\n",
      "multa - punishment\n",
      "pomum - apple\n",
      "popula - apple\n",
      "popum - fruit\n"
     ]
    }
   ],
   "source": [
    "!type task_1.2_target"
   ]
  },
  {
   "cell_type": "markdown",
   "metadata": {},
   "source": [
    "## Задание 1.3\n",
    "\n",
    "Напишите функцию, вычисляющую длину русского слова, независимо от его кодировки\n",
    "\n",
    "Если параметр encoding задан, то нужно декодировать текст при помощи этой кодировки. А если он не задан, то кодировку надо определить самостоятельно.\n",
    "\n",
    "##### Если кодировка не задана, то точное решение здесь написать не получится. Но можно воспользоваться функцией my_decoder из лекции"
   ]
  },
  {
   "cell_type": "code",
   "execution_count": 134,
   "metadata": {
    "collapsed": false
   },
   "outputs": [],
   "source": [
    "import chardet\n",
    "def my_decoder(val, encoding = None):\n",
    "    if type(val) is unicode:\n",
    "        return val\n",
    "    else:\n",
    "        if encoding is None:\n",
    "            return unicode(val, encoding=chardet.detect(val)['encoding'])\n",
    "        else: \n",
    "            return unicode(val, encoding)\n",
    "def my_len(word, encoding=None):\n",
    "    # Допишите код\n",
    "    return len(my_decoder(word, encoding))"
   ]
  },
  {
   "cell_type": "code",
   "execution_count": 135,
   "metadata": {
    "collapsed": false
   },
   "outputs": [
    {
     "data": {
      "text/plain": [
       "True"
      ]
     },
     "execution_count": 135,
     "metadata": {},
     "output_type": "execute_result"
    }
   ],
   "source": [
    "my_len('текст') == 5"
   ]
  },
  {
   "cell_type": "code",
   "execution_count": 136,
   "metadata": {
    "collapsed": false
   },
   "outputs": [
    {
     "data": {
      "text/plain": [
       "True"
      ]
     },
     "execution_count": 136,
     "metadata": {},
     "output_type": "execute_result"
    }
   ],
   "source": [
    "my_len(u'текст') == 5"
   ]
  },
  {
   "cell_type": "code",
   "execution_count": 138,
   "metadata": {
    "collapsed": false
   },
   "outputs": [
    {
     "data": {
      "text/plain": [
       "True"
      ]
     },
     "execution_count": 138,
     "metadata": {},
     "output_type": "execute_result"
    }
   ],
   "source": [
    "my_len(u'ааааа'.encode('utf_16'), encoding='utf_16') == 5"
   ]
  },
  {
   "cell_type": "code",
   "execution_count": 139,
   "metadata": {
    "collapsed": false
   },
   "outputs": [
    {
     "data": {
      "text/plain": [
       "True"
      ]
     },
     "execution_count": 139,
     "metadata": {},
     "output_type": "execute_result"
    }
   ],
   "source": [
    "my_len(u'текст'.encode('windows-1251')) == 5"
   ]
  },
  {
   "cell_type": "markdown",
   "metadata": {},
   "source": [
    "# Продвинутый уровень"
   ]
  },
  {
   "cell_type": "markdown",
   "metadata": {},
   "source": [
    "## Задание 2.1\n",
    "\n",
    "Напишите функцию, которая выписывает список файлов в данной директории и сортирует их в соответствии с их размером. Функция должна получать путь к директории в качестве аргумента и печатать на экран имена всех файлов в ней и их размеры, причем первыми должны идти файлы с наибольшими размерами, а в случае одинакового размер файлы сортируются по алфавиту.\n",
    "\n",
    "##### Указание. Изучите функции listdir и stat из модуля os и функции isfile и join из модуля os.path.\n"
   ]
  },
  {
   "cell_type": "code",
   "execution_count": 185,
   "metadata": {
    "collapsed": false
   },
   "outputs": [
    {
     "name": "stdout",
     "output_type": "stream",
     "text": [
      "./3_Syntax_part2_after_lection.ipynb 99777\n",
      "./.ipynb_checkpoints\\3_Syntax_part2_after_lection-checkpoint.ipynb 94847\n",
      "./4_Encodings_Files_after_lection.ipynb 82369\n",
      "./.ipynb_checkpoints\\4_Encodings_Files_after_lection-checkpoint.ipynb 68731\n",
      "./2_Syntax_part1.ipynb 58397\n",
      "./.ipynb_checkpoints\\2_Syntax_part1-checkpoint.ipynb 56137\n",
      "./3_Syntax_part2.ipynb 37611\n",
      "./chebykinДЗ3.ipynb 24743\n",
      "./.ipynb_checkpoints\\chebykinДЗ3-checkpoint.ipynb 24743\n",
      "./chebykinДЗ4.ipynb 15298\n",
      "./.ipynb_checkpoints\\chebykinДЗ4-checkpoint.ipynb 13893\n",
      "./chebykinДЗ2.ipynb 5498\n",
      "./.ipynb_checkpoints\\chebykinДЗ2-checkpoint.ipynb 5498\n",
      "./task_1.2_source 85\n",
      "./tmp\\tmp.txt 18\n",
      "./task_1.1_source 18\n",
      "./test.txt 12\n"
     ]
    }
   ],
   "source": [
    "import os\n",
    "\n",
    "def get_dir_content_info(dir_path):\n",
    "    all_files = ( os.path.join(basedir, filename) for basedir, dirs, files in os.walk(dir_path) for filename in files   )\n",
    "    files_and_sizes = ( (path, os.path.getsize(path)) for path in all_files )\n",
    "\n",
    "    for (x,y) in sorted( files_and_sizes, key = lambda x: [ x[1], x[0]], reverse=True ):\n",
    "        print unicode(x, encoding='windows-1251') , y\n",
    "\n",
    "    return\n",
    "\n",
    "get_dir_content_info('./')\n",
    "\n"
   ]
  },
  {
   "cell_type": "markdown",
   "metadata": {},
   "source": [
    "## Задание 2.2\n",
    "\n",
    "Аналогично 1.2, но только теперь англо-русский в русско-английский словарь. Дополнительно теперь будет ещё параметр encoding для кодировки файлов. Если он None, то нужно самостоятельно определить кодировку файла.\n",
    "\n",
    "##### Решение будет почти дублировать 1.2, но сначала текст нужно привести в unicode"
   ]
  },
  {
   "cell_type": "code",
   "execution_count": null,
   "metadata": {
    "collapsed": true
   },
   "outputs": [],
   "source": [
    "def eng_rus_2_rus_eng(source_path, target_path, encoding=None):\n",
    "    # Допишите код\n",
    "    return"
   ]
  },
  {
   "cell_type": "markdown",
   "metadata": {},
   "source": [
    "# Сложный уровень"
   ]
  },
  {
   "cell_type": "markdown",
   "metadata": {},
   "source": [
    "## Задание 3.1\n",
    "\n",
    "Существует исследование, говорящее о том, что в словах текста можно произвольно переставить буквы (не затрагивая первую и последнюю), и от этого читабельность текста практически не ухудшится. Напишите функцию для проверки этого факта. Ваша функция должна получать на вход какой-нибудь текст (может быть и на русском языке) и переставлять буквы в его словах случайным образом. \n",
    "\n",
    "Если seed None, то буквы переставляются не случайным образом, а сортируются по алфавиту (латинские символы считаем меньше кириллических). Если seed не None, то нужно использовать это seed при инициализации рандома. Сравните результаты.\n",
    "\n",
    "##### будем считать, что текст это последовательность кириллических и латинских символов разделённая пробелом\n",
    "##### вам потребуется модуль random и функции random.seed и random.shuffle\n",
    "##### проверьте результат работы на не юникодовских строчках и объясните результат"
   ]
  },
  {
   "cell_type": "code",
   "execution_count": null,
   "metadata": {
    "collapsed": true
   },
   "outputs": [],
   "source": [
    "def text_shuffle(text, seed=None):\n",
    "    # Допишите код\n",
    "    return"
   ]
  },
  {
   "cell_type": "markdown",
   "metadata": {},
   "source": [
    "## Задание 3.2\n",
    "\n",
    "Напишите функцию, которая читает два файла построчно (то есть не загружая всё содержимое в память), и записывает в выходной файл результат лексиграфического сравнение срочки из первого файла и из второго (First, Second и Equal по аналогии c предыдущим ДЗ)."
   ]
  },
  {
   "cell_type": "code",
   "execution_count": 316,
   "metadata": {
    "collapsed": false
   },
   "outputs": [],
   "source": [
    "text1 = \"\"\"123\n",
    "4567\n",
    "3534\n",
    "342\n",
    "8910\n",
    "\"\"\"\n",
    "text2 = \"\"\"123\n",
    "4567\n",
    "553354\n",
    "123\n",
    " 8910\n",
    "\"\"\"\n",
    "\n",
    "with open('task_3.2_source1', 'w') as f:\n",
    "    f.write(text1)\n",
    "with open('task_3.2_source2', 'w') as f:\n",
    "    f.write(text2)\n"
   ]
  },
  {
   "cell_type": "code",
   "execution_count": 5,
   "metadata": {
    "collapsed": false
   },
   "outputs": [],
   "source": [
    "def fun_cmp(x1, x2):\n",
    "    if x1 == x2:\n",
    "        return 'Equal'\n",
    "    elif x1 < x2:\n",
    "        return 'First'\n",
    "    else:\n",
    "        return 'Second'\n",
    "\n",
    "def process(fst_source_path, snd_source_path, target_path):\n",
    "    with open(fst_source_path, 'r') as fs1:\n",
    "        with open(snd_source_path, 'r') as fs2:\n",
    "            with open(target_path, 'w') as fs3:\n",
    "                while True :\n",
    "                    line1 = fs1.readline()\n",
    "                    if not line1 : break\n",
    "                    line2 = fs2.readline()\n",
    "                    if not line2 : break\n",
    "                    fs3.write(fun_cmp(line1,line2)+\"\\n\")\n",
    "    # Допишите код\n",
    "    return\n",
    "process('task_3.2_source1','task_3.2_source2', 'task_3.2-target')"
   ]
  },
  {
   "cell_type": "code",
   "execution_count": 6,
   "metadata": {
    "collapsed": false
   },
   "outputs": [
    {
     "name": "stdout",
     "output_type": "stream",
     "text": [
      "Equal\n",
      "Equal\n",
      "First\n",
      "Second\n",
      "Second\n"
     ]
    }
   ],
   "source": [
    "!type task_3.2-target"
   ]
  }
 ],
 "metadata": {
  "anaconda-cloud": {},
  "kernelspec": {
   "display_name": "Python 2",
   "language": "python",
   "name": "python2"
  },
  "language_info": {
   "codemirror_mode": {
    "name": "ipython",
    "version": 2
   },
   "file_extension": ".py",
   "mimetype": "text/x-python",
   "name": "python",
   "nbconvert_exporter": "python",
   "pygments_lexer": "ipython2",
   "version": "2.7.13"
  }
 },
 "nbformat": 4,
 "nbformat_minor": 2
}
